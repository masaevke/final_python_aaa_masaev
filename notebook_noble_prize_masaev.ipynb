{
 "cells": [
  {
   "cell_type": "code",
   "execution_count": 2,
   "id": "02df07a1-8b96-4e00-a988-50ed34ec95dd",
   "metadata": {},
   "outputs": [],
   "source": [
    "import core\n",
    "from dataset_helpers import filter_data, group_by_attributes, apply_aggregation\n",
    "from aggregations import mean, median, count, top_n, describe_numeric\n",
    "from attribute_manager import add_field\n",
    "import statistics\n",
    "from collections import defaultdict\n",
    "import matplotlib.pyplot as plt"
   ]
  },
  {
   "cell_type": "code",
   "execution_count": 4,
   "id": "ad379457-eb90-4544-b1af-80ef6a6a3dd7",
   "metadata": {},
   "outputs": [
    {
     "name": "stdout",
     "output_type": "stream",
     "text": [
      "Загрузка данных из АПИ...\n",
      "Загружено 25 записей\n"
     ]
    }
   ],
   "source": [
    "print(\"Загрузка данных из АПИ...\")\n",
    "laureates_data = core.load_data()\n",
    "print(f\"Загружено {len(laureates_data)} записей\")"
   ]
  },
  {
   "cell_type": "markdown",
   "id": "defaadfb-5d2d-4e5c-b2d9-42a098ed9012",
   "metadata": {},
   "source": [
    "### Функции для анализа данных"
   ]
  },
  {
   "cell_type": "code",
   "execution_count": null,
   "id": "61739b7f-c049-4efb-ae0a-dec1270acc42",
   "metadata": {},
   "outputs": [],
   "source": []
  },
  {
   "cell_type": "markdown",
   "id": "3024c4e9-f407-4fc3-aa78-6e2f45a40585",
   "metadata": {},
   "source": [
    "### Запуска анализа"
   ]
  },
  {
   "cell_type": "code",
   "execution_count": null,
   "id": "b4ed8867-7a7c-4a8a-bf21-6e1ee9965a97",
   "metadata": {},
   "outputs": [],
   "source": [
    "if __name__ == \"__main__\":\n",
    "    analyze_countries_extended(laureates_data)\n",
    "    analyze_age_extended(laureates_data)\n",
    "    analyze_gender_extended(laureates_data)\n",
    "    analyze_migration(laureates_data)\n",
    "    analyze_multiple_laureates(laureates_data)\n",
    "    analyze_refusals(laureates_data)\n",
    "    create_extended_visualizations(laureates_data)"
   ]
  },
  {
   "cell_type": "code",
   "execution_count": null,
   "id": "ad61e360-5c6b-4ac5-9443-b640b599dfaa",
   "metadata": {},
   "outputs": [],
   "source": []
  },
  {
   "cell_type": "code",
   "execution_count": null,
   "id": "6b4fac9b-5285-4e25-bbd7-4065b2164ec0",
   "metadata": {},
   "outputs": [],
   "source": []
  },
  {
   "cell_type": "code",
   "execution_count": null,
   "id": "19a304a5-da16-4d1e-a573-797e2f47353a",
   "metadata": {},
   "outputs": [],
   "source": []
  },
  {
   "cell_type": "code",
   "execution_count": null,
   "id": "14ee516d-7ca9-44cf-bf72-70b195f80e09",
   "metadata": {},
   "outputs": [],
   "source": []
  },
  {
   "cell_type": "code",
   "execution_count": null,
   "id": "379e7757-c805-4dba-abf6-2031504e2c26",
   "metadata": {},
   "outputs": [],
   "source": []
  }
 ],
 "metadata": {
  "kernelspec": {
   "display_name": "Python 3 (ipykernel)",
   "language": "python",
   "name": "python3"
  },
  "language_info": {
   "codemirror_mode": {
    "name": "ipython",
    "version": 3
   },
   "file_extension": ".py",
   "mimetype": "text/x-python",
   "name": "python",
   "nbconvert_exporter": "python",
   "pygments_lexer": "ipython3",
   "version": "3.13.2"
  }
 },
 "nbformat": 4,
 "nbformat_minor": 5
}
